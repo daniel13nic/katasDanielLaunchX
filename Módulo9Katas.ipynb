{
  "cells": [
    {
      "cell_type": "markdown",
      "metadata": {},
      "source": [
        "# Ejercicio: Uso de funciones en Python"
      ]
    },
    {
      "cell_type": "markdown",
      "metadata": {},
      "source": [
        "### Ejercicio 1: Trabajar con argumentos en funciones\n",
        "\n",
        "Los argumentos requeridos en las funciones se utilizan cuando las funciones necesitan que esos argumentos funcionen correctamente. En este ejercicio, construirás un informe de combustible que requiere información de varias ubicaciones de combustible en todo el cohete.\n",
        "\n"
      ]
    },
    {
      "cell_type": "markdown",
      "metadata": {},
      "source": [
        "> **TIP**\n",
        "> Dedica unos minutos para tratar de encontrar una solución. Luego desplázate hacia abajo hasta la parte inferior para ver si has logrado compilar el programa de acuerdo con las especificaciones\n",
        "\n",
        "Comienza por crear una función que necesite tres lecturas de combustible y devuelva un informe:"
      ]
    },
    {
      "cell_type": "code",
      "execution_count": 5,
      "metadata": {},
      "outputs": [],
      "source": [
        "# Función para leer 3 tanques de combustible y muestre el promedio\n",
        "def combustible(tanque_a, tanque_b, tanque_c):\n",
        "    promedio = (tanque_a + tanque_b + tanque_c) / 3\n",
        "    return f\"\"\"\n",
        "    Promedio: {promedio}%\n",
        "    Tanque 1: {tanque_a}%\n",
        "    Tanque 2: {tanque_b}%\n",
        "    Tanque 3: {tanque_c}%\n",
        "    \"\"\""
      ]
    },
    {
      "cell_type": "markdown",
      "metadata": {},
      "source": [
        "Ahora que hemos definido la función de informes, vamos a comprobarlo. Para esta misión, los tanques no están llenos:"
      ]
    },
    {
      "cell_type": "code",
      "execution_count": 8,
      "metadata": {},
      "outputs": [
        {
          "name": "stdout",
          "output_type": "stream",
          "text": [
            "\n",
            "    Promedio: 36.666666666666664%\n",
            "    Tanque 1: 50%\n",
            "    Tanque 2: 40%\n",
            "    Tanque 3: 20%\n",
            "    \n"
          ]
        }
      ],
      "source": [
        "\n",
        "# Llamamos a la función que genera el reporte print(funcion(tanque1, tanque2, tanque3))\n",
        "\n",
        "print(combustible(50, 40, 20))"
      ]
    },
    {
      "cell_type": "markdown",
      "metadata": {},
      "source": [
        "En lugar de simplemente crear el informe, la función también está calculando el promedio. Mejora la legibilidad extrayendo el cálculo promedio de la función en una nueva función para que el promedio se pueda hacer de forma independiente:"
      ]
    },
    {
      "cell_type": "code",
      "execution_count": 10,
      "metadata": {},
      "outputs": [
        {
          "data": {
            "text/plain": [
              "36.666666666666664"
            ]
          },
          "execution_count": 10,
          "metadata": {},
          "output_type": "execute_result"
        }
      ],
      "source": [
        "# Función promedio \n",
        "\n",
        "def promedio(values):\n",
        "    total = sum(values)\n",
        "    items = len(values)\n",
        "    return total / items\n",
        "\n",
        "promedio([50, 40, 20]) "
      ]
    },
    {
      "cell_type": "markdown",
      "metadata": {},
      "source": [
        "Ahora actualiza la función de informes para llamando a la nueva función del promedio:\n"
      ]
    },
    {
      "cell_type": "code",
      "execution_count": 12,
      "metadata": {},
      "outputs": [
        {
          "name": "stdout",
          "output_type": "stream",
          "text": [
            "Fuel Report:\n",
            "    Promedio: 36.666666666666664%\n",
            "    Tanque 1: 50%\n",
            "    Tanque 2: 40%\n",
            "    Tanque 3: 20% \n",
            "    \n"
          ]
        }
      ],
      "source": [
        "# Actualiza la función\n",
        "def combustible(tanque_a, tanque_b, tanque_c):\n",
        "    return f\"\"\"Fuel Report:\n",
        "    Promedio: {promedio([tanque_a, tanque_b, tanque_c])}%\n",
        "    Tanque 1: {tanque_a}%\n",
        "    Tanque 2: {tanque_b}%\n",
        "    Tanque 3: {tanque_c}% \n",
        "    \"\"\"\n",
        "\n",
        "print(combustible(50, 40, 20))"
      ]
    },
    {
      "cell_type": "markdown",
      "metadata": {},
      "source": [
        "> Recuerda: Lo importante es intentarlo, puedes auxiliarte de internet, libros, etc. El objetivo de una kata es la comprobación de la comprensión de la lección y su aplicación inmediata a la resolución de problemas. Go for it!"
      ]
    },
    {
      "cell_type": "markdown",
      "metadata": {},
      "source": [
        "## Ejercicio 2: Trabajo con argumentos de palabra clave"
      ]
    },
    {
      "cell_type": "markdown",
      "metadata": {},
      "source": [
        "### Ejercicio : Trabajar con argumentos de palabras clave en funciones\n",
        "En este ejercicio, construirás un informe de cohete que requiere varias piezas de información, como el tiempo hasta el destino, el combustible a la izquierda y el nombre del destino. Comienza por crear una función que creará un informe preciso de la misión:"
      ]
    },
    {
      "cell_type": "code",
      "execution_count": 13,
      "metadata": {},
      "outputs": [
        {
          "name": "stdout",
          "output_type": "stream",
          "text": [
            "\n",
            "    Destino a Marte\n",
            "    Tiempo total de vuelo: 75 minutos\n",
            "    Combustible total: 570000 galones\n",
            "    \n"
          ]
        }
      ],
      "source": [
        "# Función con un informe preciso de la misión. Considera hora de prelanzamiento, tiempo de vuelo, destino, tanque externo y tanque interno\n",
        "\n",
        "def informe(hora_pre, tiempo_vuelo, destino, tanque_ex, tanque_int):\n",
        "    return f\"\"\"\n",
        "    Destino a {destino}\n",
        "    Tiempo total de vuelo: {hora_pre + tiempo_vuelo} minutos\n",
        "    Combustible total: {tanque_ex + tanque_int} galones\n",
        "    \"\"\"\n",
        "\n",
        "print(informe(20, 55, \"Marte\", 250000, 320000))"
      ]
    },
    {
      "cell_type": "markdown",
      "metadata": {},
      "source": [
        "La función es problemática porque no se puede adaptar para minutos adicionales o tanques adicionales de combustible. Hazlo más flexible permitiendo cualquier número de pasos basados en el tiempo y cualquier número de tanques. En lugar de usar `*args` y `**kwargs`, aprovecha el hecho de que puedes usar cualquier nombre que desees. Asegurate que la función sea más legible mediante el uso de nombres de variables que están asociados con las entradas, como `*minutes` y `**fuel_reservoirs`:"
      ]
    },
    {
      "cell_type": "code",
      "execution_count": 14,
      "metadata": {},
      "outputs": [
        {
          "name": "stdout",
          "output_type": "stream",
          "text": [
            "\n",
            "    Destino a Marte\n",
            "    Tiempo total de vuelo: 76 minutos\n",
            "    Combustible total: 507719 galones\n",
            "    \n"
          ]
        }
      ],
      "source": [
        "# Escribe tu nueva función de reporte considerando lo anterior\n",
        "\n",
        "def informe(destino, *minutos, **tanques):\n",
        "    return f\"\"\"\n",
        "    Destino a {destino}\n",
        "    Tiempo total de vuelo: {sum(minutos)} minutos\n",
        "    Combustible total: {sum(tanques.values())} galones\n",
        "    \"\"\"\n",
        "\n",
        "print(informe(\"Marte\", 10, 15, 51, tanque1=305010, tanque2=202709))"
      ]
    },
    {
      "cell_type": "markdown",
      "metadata": {},
      "source": [
        "Debido a que el combustible que queda en los tanques es específico de cada tanque, actualiza la función para usar el nombre de cada tanque en el informe:"
      ]
    },
    {
      "cell_type": "code",
      "execution_count": 16,
      "metadata": {},
      "outputs": [
        {
          "name": "stdout",
          "output_type": "stream",
          "text": [
            "\n",
            "    Destino a Marte\n",
            "    Tiempo total de vuelo: 74 minutos\n",
            "    Combustible total: 686108 galones\n",
            "    tanque1 --> 394001 gallones\n",
            "tanque2 --> 292107 gallones\n",
            "\n"
          ]
        }
      ],
      "source": [
        "# Escribe tu nueva función\n",
        "\n",
        "def informe(destino, *minutos, **tanques):\n",
        "    reporte = f\"\"\"\n",
        "    Destino a {destino}\n",
        "    Tiempo total de vuelo: {sum(minutos)} minutos\n",
        "    Combustible total: {sum(tanques.values())} galones\n",
        "    \"\"\"\n",
        "    for tanque, gallones in tanques.items():\n",
        "        reporte += f\"{tanque} --> {gallones} gallones\\n\"\n",
        "    return reporte\n",
        "\n",
        "print(informe(\"Marte\", 9, 40, 25, tanque1=394001, tanque2=292107))"
      ]
    }
  ],
  "metadata": {
    "interpreter": {
      "hash": "205095b8b86ea82a021a8fc2ffba2b3bc9f8d0be25999901963b225939f75778"
    },
    "kernelspec": {
      "display_name": "Python 3.8.10 64-bit ('tmp': conda)",
      "name": "python3"
    },
    "language_info": {
      "codemirror_mode": {
        "name": "ipython",
        "version": 3
      },
      "file_extension": ".py",
      "mimetype": "text/x-python",
      "name": "python",
      "nbconvert_exporter": "python",
      "pygments_lexer": "ipython3",
      "version": "3.10.2"
    },
    "nteract": {
      "version": "nteract-front-end@1.0.0"
    },
    "orig_nbformat": 4
  },
  "nbformat": 4,
  "nbformat_minor": 2
}
